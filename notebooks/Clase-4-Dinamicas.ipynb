{
 "cells": [
  {
   "cell_type": "code",
   "execution_count": 1,
   "metadata": {
    "id": "bYusGCzAZ0td"
   },
   "outputs": [],
   "source": [
    "import numpy as np\n",
    "import pandas as pd\n",
    "import matplotlib.pyplot as plt\n",
    "\n",
    "%matplotlib inline"
   ]
  },
  {
   "cell_type": "code",
   "execution_count": null,
   "metadata": {
    "id": "A3DfAKuVZ0td",
    "outputId": "83b6d05e-2fcf-423d-98ff-c78674ff5623"
   },
   "outputs": [
    {
     "data": {
      "image/png": "[encoded data removed]",
      "text/plain": [
       "<Figure size 432x288 with 1 Axes>"
      ]
     },
     "metadata": {
      "tags": []
     },
     "output_type": "display_data"
    }
   ],
   "source": [
    "np.random.seed(42) #Fijamos la semilla aleatoria\n",
    "\n",
    "x = np.arange(1,11) # Generamos 10 numeros desde el 1 al 10\n",
    "y = np.random.randint(10, 20, size=10) * x # Vamos a generar 10 numeros aleatorios entre 10 y 20, luego lo multiplicamos con nuestra variable x\n",
    "\n",
    "\n",
    "plt.scatter(x,y) # Grafiquemos como se ven nuestros datos.\n",
    "plt.xlabel(\"Var $x$\")\n",
    "plt.ylabel(\"Var $y$\")\n",
    "plt.show()"
   ]
  },
  {
   "cell_type": "markdown",
   "metadata": {
    "id": "aSBb1HXgZ0te"
   },
   "source": [
    "# Dinámica 1: \n",
    "\n",
    "Implementar la primera forma de cada uno de los parametros:\n",
    "\n",
    "$\\Large \\hat{\\beta_1} = \\frac{(\\sum x \\sum y) - (n\\sum xy)}{(\\sum x)^2 - n\\sum x^2}$ y $\\Large \\hat{\\beta_0} = \\frac{\\sum y - \\hat{\\beta_1}\\sum x}{n}$\n",
    "\n",
    "- Compruebe que los valores de obtenidos con la primera forma y la segunda forma son iguales\n",
    "- ¿Qué pasaría con nuestros coeficientes si cambiamos la forma de generar nuestra variable dependiente $Y$? Fije una semilla y reemplaze el operador utilizado (en vez de multiplicar por $x$, cambiar por ej: suma)\n"
   ]
  },
  {
   "cell_type": "code",
   "execution_count": null,
   "metadata": {
    "id": "-PSf-GXuZ0te",
    "outputId": "45bd0908-f50a-4ae5-f389-a078a41ed82a"
   },
   "outputs": [
    {
     "name": "stdout",
     "output_type": "stream",
     "text": [
      "15.2 1.2\n"
     ]
    }
   ],
   "source": [
    "# Implementación de la primera forma\n",
    "beta_1 = ((np.sum(x) * np.sum(y)) - (len(x) * np.sum(x*y))) / ((np.sum(x))**2 - (len(x) * np.sum(x**2)))\n",
    "beta_0 = (np.sum(y) - (beta_1 * np.sum(x))) / len(x)\n",
    "\n",
    "print(beta_1,beta_0)"
   ]
  },
  {
   "cell_type": "markdown",
   "metadata": {
    "id": "qGwkJZDPZ0tf"
   },
   "source": [
    "# Fin Dinámica 1"
   ]
  },
  {
   "cell_type": "code",
   "execution_count": null,
   "metadata": {
    "id": "TCY5zEBKZ0tf"
   },
   "outputs": [],
   "source": []
  },
  {
   "cell_type": "markdown",
   "metadata": {
    "id": "pEbBRyxQZ0tf"
   },
   "source": [
    "# Dinámica 2: Predicción del consumo de cerverza\n",
    "\n",
    "Este set de datos, fue recolectado en São Paulo - Brasil. Especificamente en un area universitaria con grupos de estudiantes entre 18 a 28 años de edad. Existen 7 variables en este set de datos:\n",
    "\n",
    "- Data: la fecha en que se tomo la medición\n",
    "- Temperatura Media (C): la temperatura promedio durante todo un dia\n",
    "- Temperatura Minima (C): la temperatura minima durante todo un dia\n",
    "- Temperatura Maxima (C): la temperatura maxima durante todo un dia\n",
    "- Precipitacao (mm): cantidad de mm de precipitaciones (lluvia):\n",
    "- Final de Semana: Si era fin de semana (o no).\n",
    "- **Consumo de cerveja (litros)**: La cantidad de cervezas consumidas en promedio de los grupos.\n",
    "\n",
    "Esta ultima variable, corresponde a nuestra variable dependiente. La dinámica consiste en encontrar la variable independiente que explique mejor el Consumo de cerveza. Ante esto, deberan ajustar $5$ modelos de regresión lineal simple y obtener las métricas de bondad de ajuste y de errores para cada uno de estos modelos. Indique cual fue esta variable e imprima por pantalla cuales fueron los valores de $R^2$ y $MAE$,$MAPE$ y $MSE$. Finalmente, haga el grafico de la regresión lineal mostrando los errores obtenidos por la variable mas explicativa."
   ]
  },
  {
   "cell_type": "code",
   "execution_count": 3,
   "metadata": {
    "id": "Pa-EulWLZ0tf",
    "outputId": "ebc1aa32-0e11-4cf1-9010-3ee33efd7450"
   },
   "outputs": [
    {
     "ename": "NameError",
     "evalue": "name 'pd' is not defined",
     "output_type": "error",
     "traceback": [
      "\u001b[0;31m---------------------------------------------------------------------------\u001b[0m",
      "\u001b[0;31mNameError\u001b[0m                                 Traceback (most recent call last)",
      "\u001b[0;32m<ipython-input-3-176dd0773bc5>\u001b[0m in \u001b[0;36m<module>\u001b[0;34m\u001b[0m\n\u001b[0;32m----> 1\u001b[0;31m \u001b[0mcerveza_df\u001b[0m \u001b[0;34m=\u001b[0m \u001b[0mpd\u001b[0m\u001b[0;34m.\u001b[0m\u001b[0mread_csv\u001b[0m\u001b[0;34m(\u001b[0m\u001b[0;34m\"http://srodriguez.me/Datasets/Consumo_cerveja.csv\"\u001b[0m\u001b[0;34m)\u001b[0m\u001b[0;34m\u001b[0m\u001b[0;34m\u001b[0m\u001b[0m\n\u001b[0m\u001b[1;32m      2\u001b[0m \u001b[0;34m\u001b[0m\u001b[0m\n\u001b[1;32m      3\u001b[0m \u001b[0mcerveza_df\u001b[0m\u001b[0;34m.\u001b[0m\u001b[0mhead\u001b[0m\u001b[0;34m(\u001b[0m\u001b[0;34m)\u001b[0m\u001b[0;34m\u001b[0m\u001b[0;34m\u001b[0m\u001b[0m\n",
      "\u001b[0;31mNameError\u001b[0m: name 'pd' is not defined"
     ]
    }
   ],
   "source": [
    "\n",
    "cerveza_df = pd.read_csv(\"http://srodriguez.me/Datasets/Consumo_cerveja.csv\")\n",
    "\n",
    "cerveza_df.head()"
   ]
  },
  {
   "cell_type": "code",
   "execution_count": 4,
   "metadata": {
    "id": "LDWI_HICZ0tf",
    "outputId": "46e7fc88-b609-4782-a042-f06369884e0c"
   },
   "outputs": [
    {
     "ename": "NameError",
     "evalue": "name 'cerveza_df' is not defined",
     "output_type": "error",
     "traceback": [
      "\u001b[0;31m---------------------------------------------------------------------------\u001b[0m",
      "\u001b[0;31mNameError\u001b[0m                                 Traceback (most recent call last)",
      "\u001b[0;32m<ipython-input-4-5168a0ef7cc4>\u001b[0m in \u001b[0;36m<module>\u001b[0;34m\u001b[0m\n\u001b[0;32m----> 1\u001b[0;31m \u001b[0mcerveza_df\u001b[0m\u001b[0;34m.\u001b[0m\u001b[0minfo\u001b[0m\u001b[0;34m(\u001b[0m\u001b[0;34m)\u001b[0m\u001b[0;34m\u001b[0m\u001b[0;34m\u001b[0m\u001b[0m\n\u001b[0m",
      "\u001b[0;31mNameError\u001b[0m: name 'cerveza_df' is not defined"
     ]
    }
   ],
   "source": [
    "cerveza_df.info()"
   ]
  },
  {
   "cell_type": "code",
   "execution_count": null,
   "metadata": {
    "id": "ow6aGvoHZ0tf"
   },
   "outputs": [],
   "source": [
    "X1 = cerveza_df['Temperatura Media (C)']\n",
    "X2 = cerveza_df['Temperatura Minima (C)']\n",
    "X3 = cerveza_df['Temperatura Maxima (C)']\n",
    "X4 = cerveza_df['Precipitacao (mm)']\n",
    "X5 = cerveza_df['Final de Semana']\n",
    "y = cerveza_df['Consumo de cerveja (litros)']\n"
   ]
  },
  {
   "cell_type": "code",
   "execution_count": null,
   "metadata": {
    "id": "-CH3FMQYZ0tf"
   },
   "outputs": [],
   "source": [
    "def lin_reg_betas(x, beta1,beta0):\n",
    "    y_hat = (beta1 * x) + beta0\n",
    "    return y_hat"
   ]
  },
  {
   "cell_type": "code",
   "execution_count": null,
   "metadata": {
    "id": "tyZl0bAJZ0tf",
    "outputId": "49f19d25-f657-4f69-c567-d34cfbaeaa05"
   },
   "outputs": [
    {
     "name": "stdout",
     "output_type": "stream",
     "text": [
      "0.6548455839988213 7.974939379459311\n",
      "0.413027909953363\n",
      "11.328230341613486 2.7642672738837044 0.11041857942609001\n"
     ]
    }
   ],
   "source": [
    "x = X3\n",
    "beta_1 = np.sum((x - np.mean(x)) * (y - np.mean(y))) / np.sum((x - np.mean(x))**2)\n",
    "beta_0 = np.mean(y) - (beta_1 * np.mean(x))\n",
    "\n",
    "print(beta_1,beta_0)\n",
    "\n",
    "SST = np.sum((y - np.mean(y))**2)\n",
    "SSR = np.sum((y - lin_reg_betas(x, beta_1, beta_0))**2)\n",
    "\n",
    "R = 1 - (SSR/SST) \n",
    "print(R)\n",
    "\n",
    "mse = np.sum((y - lin_reg_betas(x, beta_1, beta_0))**2) / len(y)\n",
    "mae = np.sum(np.abs(y - lin_reg_betas(x, beta_1, beta_0))) / len(y)\n",
    "mape = np.sum(np.abs((y - lin_reg_betas(x, beta_1, beta_0))/y)) / len(y)\n",
    "\n",
    "print(mse,mae,mape)"
   ]
  },
  {
   "cell_type": "code",
   "execution_count": null,
   "metadata": {
    "id": "ICdVL0CPZ0tf",
    "outputId": "cf2579a8-a4e8-4683-b9a9-b1ec812617ba"
   },
   "outputs": [
    {
     "data": {
      "image/png": "[encoded data removed]",
      "text/plain": [
       "<Figure size 1440x720 with 1 Axes>"
      ]
     },
     "metadata": {
      "tags": []
     },
     "output_type": "display_data"
    }
   ],
   "source": [
    "fig, ax = plt.subplots(1,1,figsize=(20,10))\n",
    "ax.plot(x,lin_reg_betas(x, beta_1, beta_0))\n",
    "ax.scatter(x,y)\n",
    "\n",
    "ax.vlines(x, y, lin_reg_betas(x, beta_1, beta_0),color='red',alpha=0.5)\n",
    "\n",
    "\n",
    "plt.show()\n"
   ]
  },
  {
   "cell_type": "markdown",
   "metadata": {
    "id": "RT5nxarnZ0tf"
   },
   "source": [
    "# Fin dinámica 2"
   ]
  },
  {
   "cell_type": "code",
   "execution_count": null,
   "metadata": {
    "id": "BnVdIZBnZ0tf"
   },
   "outputs": [],
   "source": []
  },
  {
   "cell_type": "markdown",
   "metadata": {
    "id": "w_WIdXn9Z0tf"
   },
   "source": [
    "# Dinámica 3\n",
    "\n",
    "Regresión lineal multiple, para predecir el precio de una casa. En este caso, trabajaremos con un set de datos de precios de casas del condado de King, Georgia, USA. El set de datos, contiene 21 variables pero no todas van a servir para el proceso de la regresión. Su tarea va a ser seleccionar las variables que va a descartar, y trabajar con el resto de las variables restantes para generar una regresión lineal multiple utilizando numpy para obtener los $\\hat{\\beta}$. Ademas de esto, calcule el $R^2$ y obtenga las métricas de error $MSE$, $MAE$ y $MAPE$. \n",
    "\n",
    "**Desafio:** Puede que el uso de todas las variables, no genere el mejor modelo. Por lo mismo, el **desafio** consiste en implementar el algoritmo de \"Step Forward Feature Selection\". La idea de este algoritmo, es agregar de a 1 en 1 las variables existentes en nuestro set de datos y ver como mejora el proceso de ajuste de la regresión lineal.\n",
    "\n",
    "1.- De la posibles variables consideradas en un principio (la cual llamaremos $m$), entrene $m$ modelos de regresión lineal (uno por cada variable), y seleccione la variable que obtenga un mejor $MAE$. \n",
    "\n",
    "2.- Con la variable seleccionada, remuevala del conjunto de posibles variables y guardela en una lista de variables seleccionadas (`selected_vars`)\n",
    "\n",
    "3.- Del conjunto de posibles variables restantes, entrene $m-len(selected\\_vars)$ modelos de regresión lineal utilizando las variables restantes en conjunto con `selected_vars`. Seleccione la nueva variable que obtenga un mejor $MAE$. Repita el paso 2. hasta que no quede ninguna variable.\n",
    "\n",
    "Finalmente, con el procedimiento realizado, y ninguna variable restante en el conjunto de posible variable, imprima por pantalla el mejor conjunto de variables junto con su $MAE$. Adicionalmente, puede gráficar la curva de como va evolucionando el $MAE$ a medida que va agregando variables.\n",
    "\n",
    "**Nota:** Para el desafio, es recomendable utilizar `LinearRegression` de `scikit-learn` por temas de facilidad de implementación del algoritmo de \"Step Forward Feature Selection\". Para poder obtener el $\\hat{Y}$ utilizando `LinearRegression`, se debe utilizar el método `.predict(X)` posteriormente a haber ajustado el módelo (`.fit(X,y)`), y este computara: \n",
    "\n",
    "$$\\Large \\hat{Y} =  \\hat{\\beta_0} +X_1\\hat{\\beta_1}+X_2\\hat{\\beta_2}+\\dots+X_m\\hat{\\beta_m}$$ \n",
    "\n",
    "Ejemplo de uso:\n",
    "\n",
    "```python\n",
    "lr = LinearRegression()\n",
    "lr.fit(X,y)\n",
    "y_hat = lr.predict(X)\n",
    "```"
   ]
  },
  {
   "cell_type": "code",
   "execution_count": 2,
   "metadata": {
    "id": "I8bVDfz-Z0tf",
    "outputId": "94d3c3be-e42d-4869-a063-ef89063eac72"
   },
   "outputs": [
    {
     "data": {
      "text/html": [
       "<div>\n",
       "<style scoped>\n",
       "    .dataframe tbody tr th:only-of-type {\n",
       "        vertical-align: middle;\n",
       "    }\n",
       "\n",
       "    .dataframe tbody tr th {\n",
       "        vertical-align: top;\n",
       "    }\n",
       "\n",
       "    .dataframe thead th {\n",
       "        text-align: right;\n",
       "    }\n",
       "</style>\n",
       "<table border=\"1\" class=\"dataframe\">\n",
       "  <thead>\n",
       "    <tr style=\"text-align: right;\">\n",
       "      <th></th>\n",
       "      <th>id</th>\n",
       "      <th>date</th>\n",
       "      <th>price</th>\n",
       "      <th>bedrooms</th>\n",
       "      <th>bathrooms</th>\n",
       "      <th>sqft_living</th>\n",
       "      <th>sqft_lot</th>\n",
       "      <th>floors</th>\n",
       "      <th>waterfront</th>\n",
       "      <th>view</th>\n",
       "      <th>...</th>\n",
       "      <th>grade</th>\n",
       "      <th>sqft_above</th>\n",
       "      <th>sqft_basement</th>\n",
       "      <th>yr_built</th>\n",
       "      <th>yr_renovated</th>\n",
       "      <th>zipcode</th>\n",
       "      <th>lat</th>\n",
       "      <th>long</th>\n",
       "      <th>sqft_living15</th>\n",
       "      <th>sqft_lot15</th>\n",
       "    </tr>\n",
       "  </thead>\n",
       "  <tbody>\n",
       "    <tr>\n",
       "      <th>0</th>\n",
       "      <td>7129300520</td>\n",
       "      <td>20141013T000000</td>\n",
       "      <td>221900.0</td>\n",
       "      <td>3</td>\n",
       "      <td>1.00</td>\n",
       "      <td>1180</td>\n",
       "      <td>5650</td>\n",
       "      <td>1.0</td>\n",
       "      <td>0</td>\n",
       "      <td>0</td>\n",
       "      <td>...</td>\n",
       "      <td>7</td>\n",
       "      <td>1180</td>\n",
       "      <td>0</td>\n",
       "      <td>1955</td>\n",
       "      <td>0</td>\n",
       "      <td>98178</td>\n",
       "      <td>47.5112</td>\n",
       "      <td>-122.257</td>\n",
       "      <td>1340</td>\n",
       "      <td>5650</td>\n",
       "    </tr>\n",
       "    <tr>\n",
       "      <th>1</th>\n",
       "      <td>6414100192</td>\n",
       "      <td>20141209T000000</td>\n",
       "      <td>538000.0</td>\n",
       "      <td>3</td>\n",
       "      <td>2.25</td>\n",
       "      <td>2570</td>\n",
       "      <td>7242</td>\n",
       "      <td>2.0</td>\n",
       "      <td>0</td>\n",
       "      <td>0</td>\n",
       "      <td>...</td>\n",
       "      <td>7</td>\n",
       "      <td>2170</td>\n",
       "      <td>400</td>\n",
       "      <td>1951</td>\n",
       "      <td>1991</td>\n",
       "      <td>98125</td>\n",
       "      <td>47.7210</td>\n",
       "      <td>-122.319</td>\n",
       "      <td>1690</td>\n",
       "      <td>7639</td>\n",
       "    </tr>\n",
       "    <tr>\n",
       "      <th>2</th>\n",
       "      <td>5631500400</td>\n",
       "      <td>20150225T000000</td>\n",
       "      <td>180000.0</td>\n",
       "      <td>2</td>\n",
       "      <td>1.00</td>\n",
       "      <td>770</td>\n",
       "      <td>10000</td>\n",
       "      <td>1.0</td>\n",
       "      <td>0</td>\n",
       "      <td>0</td>\n",
       "      <td>...</td>\n",
       "      <td>6</td>\n",
       "      <td>770</td>\n",
       "      <td>0</td>\n",
       "      <td>1933</td>\n",
       "      <td>0</td>\n",
       "      <td>98028</td>\n",
       "      <td>47.7379</td>\n",
       "      <td>-122.233</td>\n",
       "      <td>2720</td>\n",
       "      <td>8062</td>\n",
       "    </tr>\n",
       "    <tr>\n",
       "      <th>3</th>\n",
       "      <td>2487200875</td>\n",
       "      <td>20141209T000000</td>\n",
       "      <td>604000.0</td>\n",
       "      <td>4</td>\n",
       "      <td>3.00</td>\n",
       "      <td>1960</td>\n",
       "      <td>5000</td>\n",
       "      <td>1.0</td>\n",
       "      <td>0</td>\n",
       "      <td>0</td>\n",
       "      <td>...</td>\n",
       "      <td>7</td>\n",
       "      <td>1050</td>\n",
       "      <td>910</td>\n",
       "      <td>1965</td>\n",
       "      <td>0</td>\n",
       "      <td>98136</td>\n",
       "      <td>47.5208</td>\n",
       "      <td>-122.393</td>\n",
       "      <td>1360</td>\n",
       "      <td>5000</td>\n",
       "    </tr>\n",
       "    <tr>\n",
       "      <th>4</th>\n",
       "      <td>1954400510</td>\n",
       "      <td>20150218T000000</td>\n",
       "      <td>510000.0</td>\n",
       "      <td>3</td>\n",
       "      <td>2.00</td>\n",
       "      <td>1680</td>\n",
       "      <td>8080</td>\n",
       "      <td>1.0</td>\n",
       "      <td>0</td>\n",
       "      <td>0</td>\n",
       "      <td>...</td>\n",
       "      <td>8</td>\n",
       "      <td>1680</td>\n",
       "      <td>0</td>\n",
       "      <td>1987</td>\n",
       "      <td>0</td>\n",
       "      <td>98074</td>\n",
       "      <td>47.6168</td>\n",
       "      <td>-122.045</td>\n",
       "      <td>1800</td>\n",
       "      <td>7503</td>\n",
       "    </tr>\n",
       "  </tbody>\n",
       "</table>\n",
       "<p>5 rows × 21 columns</p>\n",
       "</div>"
      ],
      "text/plain": [
       "           id             date     price  bedrooms  bathrooms  sqft_living  \\\n",
       "0  7129300520  20141013T000000  221900.0         3       1.00         1180   \n",
       "1  6414100192  20141209T000000  538000.0         3       2.25         2570   \n",
       "2  5631500400  20150225T000000  180000.0         2       1.00          770   \n",
       "3  2487200875  20141209T000000  604000.0         4       3.00         1960   \n",
       "4  1954400510  20150218T000000  510000.0         3       2.00         1680   \n",
       "\n",
       "   sqft_lot  floors  waterfront  view  ...  grade  sqft_above  sqft_basement  \\\n",
       "0      5650     1.0           0     0  ...      7        1180              0   \n",
       "1      7242     2.0           0     0  ...      7        2170            400   \n",
       "2     10000     1.0           0     0  ...      6         770              0   \n",
       "3      5000     1.0           0     0  ...      7        1050            910   \n",
       "4      8080     1.0           0     0  ...      8        1680              0   \n",
       "\n",
       "   yr_built  yr_renovated  zipcode      lat     long  sqft_living15  \\\n",
       "0      1955             0    98178  47.5112 -122.257           1340   \n",
       "1      1951          1991    98125  47.7210 -122.319           1690   \n",
       "2      1933             0    98028  47.7379 -122.233           2720   \n",
       "3      1965             0    98136  47.5208 -122.393           1360   \n",
       "4      1987             0    98074  47.6168 -122.045           1800   \n",
       "\n",
       "   sqft_lot15  \n",
       "0        5650  \n",
       "1        7639  \n",
       "2        8062  \n",
       "3        5000  \n",
       "4        7503  \n",
       "\n",
       "[5 rows x 21 columns]"
      ]
     },
     "execution_count": 2,
     "metadata": {},
     "output_type": "execute_result"
    }
   ],
   "source": [
    "housing_df = pd.read_csv(\"http://srodriguez.me/Datasets/kc_house_data.csv\")\n",
    "housing_df.head()"
   ]
  },
  {
   "cell_type": "code",
   "execution_count": 3,
   "metadata": {
    "id": "YP1wD873Z0tg",
    "outputId": "e5156fe9-909b-4d29-bbd6-609c77207726"
   },
   "outputs": [
    {
     "name": "stdout",
     "output_type": "stream",
     "text": [
      "<class 'pandas.core.frame.DataFrame'>\n",
      "RangeIndex: 21613 entries, 0 to 21612\n",
      "Data columns (total 21 columns):\n",
      " #   Column         Non-Null Count  Dtype  \n",
      "---  ------         --------------  -----  \n",
      " 0   id             21613 non-null  int64  \n",
      " 1   date           21613 non-null  object \n",
      " 2   price          21613 non-null  float64\n",
      " 3   bedrooms       21613 non-null  int64  \n",
      " 4   bathrooms      21613 non-null  float64\n",
      " 5   sqft_living    21613 non-null  int64  \n",
      " 6   sqft_lot       21613 non-null  int64  \n",
      " 7   floors         21613 non-null  float64\n",
      " 8   waterfront     21613 non-null  int64  \n",
      " 9   view           21613 non-null  int64  \n",
      " 10  condition      21613 non-null  int64  \n",
      " 11  grade          21613 non-null  int64  \n",
      " 12  sqft_above     21613 non-null  int64  \n",
      " 13  sqft_basement  21613 non-null  int64  \n",
      " 14  yr_built       21613 non-null  int64  \n",
      " 15  yr_renovated   21613 non-null  int64  \n",
      " 16  zipcode        21613 non-null  int64  \n",
      " 17  lat            21613 non-null  float64\n",
      " 18  long           21613 non-null  float64\n",
      " 19  sqft_living15  21613 non-null  int64  \n",
      " 20  sqft_lot15     21613 non-null  int64  \n",
      "dtypes: float64(5), int64(15), object(1)\n",
      "memory usage: 3.5+ MB\n"
     ]
    }
   ],
   "source": [
    "housing_df.info()"
   ]
  },
  {
   "cell_type": "code",
   "execution_count": 4,
   "metadata": {
    "id": "nXhTk1nHZ0tg",
    "outputId": "932fe558-0447-4e4f-b7a0-e127a87bb92e"
   },
   "outputs": [
    {
     "data": {
      "text/plain": [
       "array([[ 3.00000e+00,  1.00000e+00,  1.18000e+03, ..., -1.22257e+02,\n",
       "         1.34000e+03,  5.65000e+03],\n",
       "       [ 3.00000e+00,  2.25000e+00,  2.57000e+03, ..., -1.22319e+02,\n",
       "         1.69000e+03,  7.63900e+03],\n",
       "       [ 2.00000e+00,  1.00000e+00,  7.70000e+02, ..., -1.22233e+02,\n",
       "         2.72000e+03,  8.06200e+03],\n",
       "       ...,\n",
       "       [ 2.00000e+00,  7.50000e-01,  1.02000e+03, ..., -1.22299e+02,\n",
       "         1.02000e+03,  2.00700e+03],\n",
       "       [ 3.00000e+00,  2.50000e+00,  1.60000e+03, ..., -1.22069e+02,\n",
       "         1.41000e+03,  1.28700e+03],\n",
       "       [ 2.00000e+00,  7.50000e-01,  1.02000e+03, ..., -1.22299e+02,\n",
       "         1.02000e+03,  1.35700e+03]])"
      ]
     },
     "execution_count": 4,
     "metadata": {},
     "output_type": "execute_result"
    }
   ],
   "source": [
    "y = housing_df['price'].values\n",
    "X = housing_df.iloc[:,3:].values\n",
    "X"
   ]
  },
  {
   "cell_type": "code",
   "execution_count": 6,
   "metadata": {
    "id": "_rRRolghZ0tg",
    "outputId": "ff81cc6c-2a2a-40bb-be1c-573dda3be2bc"
   },
   "outputs": [
    {
     "ename": "NameError",
     "evalue": "name 'LinearRegression' is not defined",
     "output_type": "error",
     "traceback": [
      "\u001b[0;31m---------------------------------------------------------------------------\u001b[0m",
      "\u001b[0;31mNameError\u001b[0m                                 Traceback (most recent call last)",
      "\u001b[0;32m<ipython-input-6-3897c780847e>\u001b[0m in \u001b[0;36m<module>\u001b[0;34m\u001b[0m\n\u001b[0;32m----> 1\u001b[0;31m \u001b[0mlr\u001b[0m \u001b[0;34m=\u001b[0m \u001b[0mLinearRegression\u001b[0m\u001b[0;34m(\u001b[0m\u001b[0;34m)\u001b[0m\u001b[0;34m\u001b[0m\u001b[0;34m\u001b[0m\u001b[0m\n\u001b[0m\u001b[1;32m      2\u001b[0m \u001b[0;34m\u001b[0m\u001b[0m\n\u001b[1;32m      3\u001b[0m \u001b[0mlr\u001b[0m\u001b[0;34m.\u001b[0m\u001b[0mfit\u001b[0m\u001b[0;34m(\u001b[0m\u001b[0mX\u001b[0m\u001b[0;34m,\u001b[0m\u001b[0my\u001b[0m\u001b[0;34m)\u001b[0m\u001b[0;34m\u001b[0m\u001b[0;34m\u001b[0m\u001b[0m\n\u001b[1;32m      4\u001b[0m \u001b[0my_hat\u001b[0m \u001b[0;34m=\u001b[0m \u001b[0mlr\u001b[0m\u001b[0;34m.\u001b[0m\u001b[0mpredict\u001b[0m\u001b[0;34m(\u001b[0m\u001b[0mX\u001b[0m\u001b[0;34m)\u001b[0m\u001b[0;34m\u001b[0m\u001b[0;34m\u001b[0m\u001b[0m\n\u001b[1;32m      5\u001b[0m \u001b[0mprint\u001b[0m\u001b[0;34m(\u001b[0m\u001b[0mr2_score\u001b[0m\u001b[0;34m(\u001b[0m\u001b[0my\u001b[0m\u001b[0;34m,\u001b[0m\u001b[0my_hat\u001b[0m\u001b[0;34m)\u001b[0m\u001b[0;34m,\u001b[0m \u001b[0mmean_squared_error\u001b[0m\u001b[0;34m(\u001b[0m\u001b[0my\u001b[0m\u001b[0;34m,\u001b[0m\u001b[0my_hat\u001b[0m\u001b[0;34m)\u001b[0m\u001b[0;34m,\u001b[0m \u001b[0mmean_absolute_error\u001b[0m\u001b[0;34m(\u001b[0m\u001b[0my\u001b[0m\u001b[0;34m,\u001b[0m\u001b[0my_hat\u001b[0m\u001b[0;34m)\u001b[0m\u001b[0;34m)\u001b[0m\u001b[0;34m\u001b[0m\u001b[0;34m\u001b[0m\u001b[0m\n",
      "\u001b[0;31mNameError\u001b[0m: name 'LinearRegression' is not defined"
     ]
    }
   ],
   "source": [
    "lr = LinearRegression()\n",
    "\n",
    "lr.fit(X,y)\n",
    "y_hat = lr.predict(X)\n",
    "print(r2_score(y,y_hat), mean_squared_error(y,y_hat), mean_absolute_error(y,y_hat))\n",
    "\n",
    "print(lr.intercept_, lr.coef_)"
   ]
  },
  {
   "cell_type": "code",
   "execution_count": null,
   "metadata": {},
   "outputs": [],
   "source": []
  }
 ],
 "metadata": {
  "colab": {
   "name": "Clase-4-Dinamicas.ipynb",
   "provenance": []
  },
  "kernelspec": {
   "display_name": "Python 3",
   "language": "python",
   "name": "python3"
  },
  "language_info": {
   "codemirror_mode": {
    "name": "ipython",
    "version": 3
   },
   "file_extension": ".py",
   "mimetype": "text/x-python",
   "name": "python",
   "nbconvert_exporter": "python",
   "pygments_lexer": "ipython3",
   "version": "3.8.5"
  }
 },
 "nbformat": 4,
 "nbformat_minor": 1
}
